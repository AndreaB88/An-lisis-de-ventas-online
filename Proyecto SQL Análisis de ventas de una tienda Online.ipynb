{
 "cells": [
  {
   "cell_type": "markdown",
   "metadata": {},
   "source": [
    "\n",
    "# Proyecto de SpakSQL con Power BI: Análisis de Ventas de una Tienda Online"
   ]
  },
  {
   "cell_type": "markdown",
   "metadata": {},
   "source": [
    "## 1. Importación de librerías\n"
   ]
  },
  {
   "cell_type": "code",
   "execution_count": 1,
   "metadata": {},
   "outputs": [
    {
     "name": "stdout",
     "output_type": "stream",
     "text": [
      "Requirement already satisfied: findspark in /opt/conda/lib/python3.11/site-packages (2.0.1)\n"
     ]
    }
   ],
   "source": [
    "!pip install findspark\n"
   ]
  },
  {
   "cell_type": "code",
   "execution_count": 2,
   "metadata": {},
   "outputs": [],
   "source": [
    "import numpy as np\n",
    "import pandas as pd \n",
    "import matplotlib.pyplot as plt \n",
    "import findspark\n",
    "findspark.init()\n",
    "import pyspark\n",
    "from pyspark.sql.functions import col, isnull, when, count, regexp_replace, desc, to_date, date_format\n",
    "from pyspark import SparkConf, SparkContext, SQLContext\n",
    "from pyspark.sql import SparkSession"
   ]
  },
  {
   "cell_type": "markdown",
   "metadata": {},
   "source": [
    "## 2. Inicialización de pyspark y contexto sql"
   ]
  },
  {
   "cell_type": "code",
   "execution_count": 3,
   "metadata": {},
   "outputs": [],
   "source": [
    "sc = SparkSession.builder\\\n",
    "        .master(\"local\")\\\n",
    "        .appName(\"Análisis de Ventas Online\")\\\n",
    "        .config(\"spark.logLevel\", \"WARN\")\\\n",
    "        .getOrCreate()"
   ]
  },
  {
   "cell_type": "code",
   "execution_count": 4,
   "metadata": {},
   "outputs": [
    {
     "name": "stderr",
     "output_type": "stream",
     "text": [
      "/usr/local/spark/python/pyspark/sql/context.py:113: FutureWarning: Deprecated in 3.0.0. Use SparkSession.builder.getOrCreate() instead.\n",
      "  warnings.warn(\n"
     ]
    }
   ],
   "source": [
    "sqlContext = SQLContext(sc)"
   ]
  },
  {
   "cell_type": "code",
   "execution_count": 5,
   "metadata": {},
   "outputs": [
    {
     "data": {
      "text/html": [
       "\n",
       "            <div>\n",
       "                <p><b>SparkSession - in-memory</b></p>\n",
       "                \n",
       "        <div>\n",
       "            <p><b>SparkContext</b></p>\n",
       "\n",
       "            <p><a href=\"http://dfb4a93ed231:4040\">Spark UI</a></p>\n",
       "\n",
       "            <dl>\n",
       "              <dt>Version</dt>\n",
       "                <dd><code>v3.5.0</code></dd>\n",
       "              <dt>Master</dt>\n",
       "                <dd><code>local</code></dd>\n",
       "              <dt>AppName</dt>\n",
       "                <dd><code>Análisis de Ventas Online</code></dd>\n",
       "            </dl>\n",
       "        </div>\n",
       "        \n",
       "            </div>\n",
       "        "
      ],
      "text/plain": [
       "<pyspark.sql.session.SparkSession at 0x7f223454b990>"
      ]
     },
     "execution_count": 5,
     "metadata": {},
     "output_type": "execute_result"
    }
   ],
   "source": [
    "sc"
   ]
  },
  {
   "cell_type": "markdown",
   "metadata": {},
   "source": [
    "## 3. Carga de datos"
   ]
  },
  {
   "cell_type": "code",
   "execution_count": 6,
   "metadata": {},
   "outputs": [
    {
     "name": "stderr",
     "output_type": "stream",
     "text": [
      "/usr/local/spark/python/pyspark/sql/dataframe.py:329: FutureWarning: Deprecated in 2.0, use createOrReplaceTempView instead.\n",
      "  warnings.warn(\"Deprecated in 2.0, use createOrReplaceTempView instead.\", FutureWarning)\n"
     ]
    }
   ],
   "source": [
    "ventas = sc.read.csv(\"Online Retail.csv\", header=True, inferSchema=True)\n",
    "ventas.registerTempTable('ventas')"
   ]
  },
  {
   "cell_type": "markdown",
   "metadata": {},
   "source": [
    "## 4. Exploración de los Datos"
   ]
  },
  {
   "cell_type": "code",
   "execution_count": 7,
   "metadata": {},
   "outputs": [
    {
     "name": "stdout",
     "output_type": "stream",
     "text": [
      "root\n",
      " |-- InvoiceNo: string (nullable = true)\n",
      " |-- StockCode: string (nullable = true)\n",
      " |-- Description: string (nullable = true)\n",
      " |-- Quantity: integer (nullable = true)\n",
      " |-- InvoiceDate: string (nullable = true)\n",
      " |-- UnitPrice: string (nullable = true)\n",
      " |-- CustomerID: integer (nullable = true)\n",
      " |-- Country: string (nullable = true)\n",
      "\n"
     ]
    }
   ],
   "source": [
    "ventas.printSchema()\n"
   ]
  },
  {
   "cell_type": "code",
   "execution_count": 8,
   "metadata": {},
   "outputs": [
    {
     "name": "stdout",
     "output_type": "stream",
     "text": [
      "Loaded dataset contains 541909 rows\n",
      "Loaded dataset contains 8 columns\n"
     ]
    }
   ],
   "source": [
    "# Contar el número de filas y columnas\n",
    "num_filas = ventas.count()\n",
    "num_columnas = len(ventas.columns)\n",
    "\n",
    "# Imprimir el número de filas y columnas\n",
    "print(\"Loaded dataset contains %d rows\" % num_filas)\n",
    "print(\"Loaded dataset contains %d columns\" % num_columnas)\n",
    "\n"
   ]
  },
  {
   "cell_type": "code",
   "execution_count": 9,
   "metadata": {},
   "outputs": [
    {
     "name": "stdout",
     "output_type": "stream",
     "text": [
      "+---------+---------+--------------------+--------+---------------+---------+----------+--------------+\n",
      "|InvoiceNo|StockCode|         Description|Quantity|    InvoiceDate|UnitPrice|CustomerID|       Country|\n",
      "+---------+---------+--------------------+--------+---------------+---------+----------+--------------+\n",
      "|   536365|   85123A|WHITE HANGING HEA...|       6|01/12/2010 8:26|     2,55|     17850|United Kingdom|\n",
      "|   536365|    71053| WHITE METAL LANTERN|       6|01/12/2010 8:26|     3,39|     17850|United Kingdom|\n",
      "|   536365|   84406B|CREAM CUPID HEART...|       8|01/12/2010 8:26|     2,75|     17850|United Kingdom|\n",
      "|   536365|   84029G|KNITTED UNION FLA...|       6|01/12/2010 8:26|     3,39|     17850|United Kingdom|\n",
      "|   536365|   84029E|RED WOOLLY HOTTIE...|       6|01/12/2010 8:26|     3,39|     17850|United Kingdom|\n",
      "+---------+---------+--------------------+--------+---------------+---------+----------+--------------+\n",
      "only showing top 5 rows\n",
      "\n",
      "+-------+------------------+------------------+--------------------+------------------+----------------+------------------+------------------+-----------+\n",
      "|summary|         InvoiceNo|         StockCode|         Description|          Quantity|     InvoiceDate|         UnitPrice|        CustomerID|    Country|\n",
      "+-------+------------------+------------------+--------------------+------------------+----------------+------------------+------------------+-----------+\n",
      "|  count|            541909|            541909|              540455|            541909|          541909|            541909|            406829|     541909|\n",
      "|   mean|  559965.752026781|27623.240210938104|             20713.0|  9.55224954743324|            NULL|29.921163668665333|15287.690570239585|       NULL|\n",
      "| stddev|13428.417280805148| 16799.73762842771|                NULL|218.08115785023355|            NULL| 595.7455525989111|1713.6003033216148|       NULL|\n",
      "|    min|            536365|             10002| 4 PURPLE FLOCK D...|            -80995|01/02/2011 10:00|         -11062,06|             12346|  Australia|\n",
      "|    max|           C581569|                 m|   wrongly sold sets|             80995| 31/10/2011 9:58|             99,96|             18287|Unspecified|\n",
      "+-------+------------------+------------------+--------------------+------------------+----------------+------------------+------------------+-----------+\n",
      "\n",
      "Total de filas: 541909, Filas únicas: 536641\n",
      "+---------+---------+-----------+--------+-----------+---------+----------+-------+\n",
      "|InvoiceNo|StockCode|Description|Quantity|InvoiceDate|UnitPrice|CustomerID|Country|\n",
      "+---------+---------+-----------+--------+-----------+---------+----------+-------+\n",
      "|        0|        0|       1454|       0|          0|        0|    135080|      0|\n",
      "+---------+---------+-----------+--------+-----------+---------+----------+-------+\n",
      "\n"
     ]
    }
   ],
   "source": [
    "# Mostrar las primeras filas para obtener una visión general de los datos\n",
    "ventas.show(5)\n",
    "\n",
    "# Describir los datos para obtener estadísticas básicas\n",
    "ventas.describe().show()\n",
    "\n",
    "# Contar el número de filas totales y el número de filas únicas\n",
    "total_rows = ventas.count()\n",
    "unique_rows = ventas.distinct().count()\n",
    "print(f\"Total de filas: {total_rows}, Filas únicas: {unique_rows}\")\n",
    "\n",
    "# Verificar si hay valores nulos en las columnas críticas\n",
    "ventas.select([count(when(isnull(c), c)).alias(c) for c in ventas.columns]).show()\n"
   ]
  },
  {
   "cell_type": "markdown",
   "metadata": {},
   "source": [
    "Al observar las primeras filas, identificamos una variedad de productos comercializados, tales como decoraciones y accesorios para el hogar. La información recopilada abarca detalles desde el código y descripción del producto hasta la identificación del cliente y el país de venta, pasando por datos de facturación y precios por unidad.\n",
    "\n",
    "Descripción Estadística: Detallamos aquí algunos puntos clave:\n",
    "\n",
    "* InvoiceNo: Este identificador de factura es una secuencia de caracteres, sin valores faltantes.\n",
    "* StockCode: Código del producto, también sin ausencias.\n",
    "* Description: Se detectaron 1,454 entradas nulas que requieren atención.\n",
    "* Quantity: Presenta extremos que sugieren posibles errores de entrada o devoluciones incorrectamente registradas.\n",
    "* InvoiceDate: Esta fecha no presenta valores nulos.\n",
    "* UnitPrice: Observamos valores extremos y negativos que podrían indicar errores.\n",
    "* CustomerID: Con 135,080 valores nulos, esta ausencia compromete análisis de comportamiento del cliente.\n",
    "* Country: No presenta valores nulos.\n",
    "* Calidad de Datos: Un aspecto preocupante es la cantidad significativa de valores nulos en 'CustomerID' y 'Description', así como la presencia de duplicados que superan el número de filas únicas.\n",
    "\n",
    "Pasos Sugeridos para la Limpieza y Análisis:\n",
    "\n",
    "Tratamiento de Valores Nulos: Decidir si eliminar las filas con descripciones nulas y cómo imputar los valores de 'CustomerID'.\n",
    "Corrección de Valores Anómalos: Investigar y corregir los valores extremos en 'Quantity' y 'UnitPrice', asegurando la positividad y formato correcto de los últimos.\n",
    "Eliminación de Duplicados: Determinar su relevancia y proceder según convenga.\n",
    "Análisis Exploratorio Sugerido:\n",
    "\n",
    "Ventas por Producto y Descripción: Identificar los más vendidos.\n",
    "Análisis Temporal: Examinar variaciones y tendencias estacionales.\n",
    "Distribución Geográfica: Analizar cómo las ventas y precios varían entre países.\n",
    "Al limpiar y analizar meticulosamente estos datos, se desvelarán insights valiosos que contribuirán a la toma de decisiones estratégicas y a la optimización de procesos en la empresa."
   ]
  },
  {
   "cell_type": "markdown",
   "metadata": {},
   "source": [
    "## 5. Limpieza de los Datos"
   ]
  },
  {
   "cell_type": "markdown",
   "metadata": {},
   "source": [
    "Primero, nos asegúraremos de que UnitPrice esté en un formato decimal adecuado, convirtiendo comas en puntos y asegurándonos de que sea positivo:"
   ]
  },
  {
   "cell_type": "code",
   "execution_count": 10,
   "metadata": {},
   "outputs": [],
   "source": [
    "# Convertir comas en puntos en el campo UnitPrice y asegurarse de que sea un valor numérico\n",
    "ventas = ventas.withColumn(\"UnitPrice\", regexp_replace(col(\"UnitPrice\"), \",\", \".\").cast(\"double\"))\n",
    "\n",
    "# Eliminar valores negativos o cero, ya que no son válidos para un precio unitario\n",
    "ventas = ventas.filter(col(\"UnitPrice\") > 0)"
   ]
  },
  {
   "cell_type": "markdown",
   "metadata": {},
   "source": [
    "Vamos a asegurarnos de que la columna InvoiceDate está correctamente convertida a un tipo de fecha"
   ]
  },
  {
   "cell_type": "code",
   "execution_count": 11,
   "metadata": {},
   "outputs": [
    {
     "name": "stdout",
     "output_type": "stream",
     "text": [
      "+---------------+\n",
      "|InvoiceDate    |\n",
      "+---------------+\n",
      "|01/12/2010 8:26|\n",
      "|01/12/2010 8:26|\n",
      "|01/12/2010 8:26|\n",
      "|01/12/2010 8:26|\n",
      "|01/12/2010 8:26|\n",
      "|01/12/2010 8:26|\n",
      "|01/12/2010 8:26|\n",
      "|01/12/2010 8:28|\n",
      "|01/12/2010 8:28|\n",
      "|01/12/2010 8:34|\n",
      "+---------------+\n",
      "only showing top 10 rows\n",
      "\n"
     ]
    }
   ],
   "source": [
    "ventas.select(\"InvoiceDate\").show(10, truncate=False)"
   ]
  },
  {
   "cell_type": "code",
   "execution_count": 12,
   "metadata": {},
   "outputs": [
    {
     "name": "stdout",
     "output_type": "stream",
     "text": [
      "+-------+\n",
      "|  Month|\n",
      "+-------+\n",
      "|2010-12|\n",
      "|2010-12|\n",
      "|2010-12|\n",
      "|2010-12|\n",
      "|2010-12|\n",
      "|2010-12|\n",
      "|2010-12|\n",
      "|2010-12|\n",
      "|2010-12|\n",
      "|2010-12|\n",
      "+-------+\n",
      "only showing top 10 rows\n",
      "\n"
     ]
    }
   ],
   "source": [
    "from pyspark.sql.functions import to_date, date_format\n",
    "\n",
    "# Convertir la columna InvoiceDate a tipo fecha usando el formato correcto\n",
    "ventas = ventas.withColumn(\"InvoiceDate\", to_date(col(\"InvoiceDate\"), \"dd/MM/yyyy H:mm\"))\n",
    "\n",
    "# Crear una nueva columna Month extrayendo el mes de la columna InvoiceDate\n",
    "ventas = ventas.withColumn(\"Month\", date_format(col(\"InvoiceDate\"), \"yyyy-MM\"))\n",
    "\n",
    "\n",
    "# Verificar la conversión de la fecha\n",
    "ventas.select(\"Month\").show(10)\n"
   ]
  },
  {
   "cell_type": "markdown",
   "metadata": {},
   "source": [
    "Ahora vamos a eliminar los duplicados para asegurarnos de que cada entrada sea única y relevante:"
   ]
  },
  {
   "cell_type": "code",
   "execution_count": 13,
   "metadata": {},
   "outputs": [],
   "source": [
    "ventas = ventas.dropDuplicates()\n"
   ]
  },
  {
   "cell_type": "markdown",
   "metadata": {},
   "source": [
    "Asignar un ID único para todos los valores nulos, como -1. Esto puede ayudar a realizar análisis que incluyan el conteo de transacciones, pero no afectará el análisis centrado en comportamientos específicos de clientes identificados."
   ]
  },
  {
   "cell_type": "code",
   "execution_count": 14,
   "metadata": {},
   "outputs": [],
   "source": [
    "ventas = ventas.na.fill({\"CustomerID\": -1})\n"
   ]
  },
  {
   "cell_type": "markdown",
   "metadata": {},
   "source": [
    "Rellenar valores nulos en Description con \"Unknown\" garantiza que todas las filas se mantengan en el análisis, evita errores y proporciona consistencia y completitud en los resultados, lo que es fundamental para tomar decisiones informadas y precisas en el negoci"
   ]
  },
  {
   "cell_type": "code",
   "execution_count": 15,
   "metadata": {},
   "outputs": [],
   "source": [
    "# Rellenar valores nulos en Description con un valor específico (por ejemplo, 'Unknown')\n",
    "ventas = ventas.na.fill({\"Description\": \"Unknown\"})"
   ]
  },
  {
   "cell_type": "markdown",
   "metadata": {},
   "source": [
    "Ahora vamos a investigar sobre los valores extremos de \"Quantity\" para entender su distribución y contexto:"
   ]
  },
  {
   "cell_type": "code",
   "execution_count": 16,
   "metadata": {},
   "outputs": [
    {
     "name": "stdout",
     "output_type": "stream",
     "text": [
      "+---------+---------+--------------------+--------+-----------+---------+----------+--------------+-------+\n",
      "|InvoiceNo|StockCode|         Description|Quantity|InvoiceDate|UnitPrice|CustomerID|       Country|  Month|\n",
      "+---------+---------+--------------------+--------+-----------+---------+----------+--------------+-------+\n",
      "|  C581484|    23843|PAPER CRAFT , LIT...|  -80995| 2011-12-09|     2.08|     16446|United Kingdom|2011-12|\n",
      "|  C541433|    23166|MEDIUM CERAMIC TO...|  -74215| 2011-01-18|     1.04|     12346|United Kingdom|2011-01|\n",
      "|  C536757|    84347|ROTATING SILVER A...|   -9360| 2010-12-02|     0.03|     15838|United Kingdom|2010-12|\n",
      "|  C550456|    21108|FAIRY CAKE FLANNE...|   -3114| 2011-04-18|      2.1|     15749|United Kingdom|2011-04|\n",
      "|  C550456|    21175|GIN + TONIC DIET ...|   -2000| 2011-04-18|     1.85|     15749|United Kingdom|2011-04|\n",
      "|  C550456|   85123A|WHITE HANGING HEA...|   -1930| 2011-04-18|     2.55|     15749|United Kingdom|2011-04|\n",
      "|  C556522|    22920|   HERB MARKER BASIL|   -1515| 2011-06-13|     0.55|     16938|United Kingdom|2011-06|\n",
      "|  C552995|        M|              Manual|   -1350| 2011-05-12|     0.16|     18133|United Kingdom|2011-05|\n",
      "|  C550456|   47566B|TEA TIME PARTY BU...|   -1300| 2011-04-18|     2.55|     15749|United Kingdom|2011-04|\n",
      "|  C570556|    20971|PINK BLUE FELT CR...|   -1296| 2011-10-11|     1.06|     16029|United Kingdom|2011-10|\n",
      "+---------+---------+--------------------+--------+-----------+---------+----------+--------------+-------+\n",
      "only showing top 10 rows\n",
      "\n",
      "+---------+---------+--------------------+--------+-----------+---------+----------+--------------+-------+\n",
      "|InvoiceNo|StockCode|         Description|Quantity|InvoiceDate|UnitPrice|CustomerID|       Country|  Month|\n",
      "+---------+---------+--------------------+--------+-----------+---------+----------+--------------+-------+\n",
      "|   581483|    23843|PAPER CRAFT , LIT...|   80995| 2011-12-09|     2.08|     16446|United Kingdom|2011-12|\n",
      "|   541431|    23166|MEDIUM CERAMIC TO...|   74215| 2011-01-18|     1.04|     12346|United Kingdom|2011-01|\n",
      "|   573008|    84077|WORLD WAR 2 GLIDE...|    4800| 2011-10-27|     0.21|     12901|United Kingdom|2011-10|\n",
      "|   554868|    22197|SMALL POPCORN HOLDER|    4300| 2011-05-27|     0.72|     13135|United Kingdom|2011-05|\n",
      "|   544612|    22053|EMPIRE DESIGN ROS...|    3906| 2011-02-22|     0.82|     18087|United Kingdom|2011-02|\n",
      "|   560599|    18007|ESSENTIAL BALM 3....|    3186| 2011-07-19|     0.06|     14609|United Kingdom|2011-07|\n",
      "|   540815|    21108|FAIRY CAKE FLANNE...|    3114| 2011-01-11|      2.1|     15749|United Kingdom|2011-01|\n",
      "|   550461|    21108|FAIRY CAKE FLANNE...|    3114| 2011-04-18|      2.1|     15749|United Kingdom|2011-04|\n",
      "|   573995|    16014|SMALL CHINESE STY...|    3000| 2011-11-02|     0.32|     16308|United Kingdom|2011-11|\n",
      "|   536830|    84077|WORLD WAR 2 GLIDE...|    2880| 2010-12-02|     0.18|     16754|United Kingdom|2010-12|\n",
      "+---------+---------+--------------------+--------+-----------+---------+----------+--------------+-------+\n",
      "only showing top 10 rows\n",
      "\n"
     ]
    }
   ],
   "source": [
    "# Visualizar las 10 transacciones más grandes y más pequeñas en términos de cantidad\n",
    "ventas.orderBy(\"Quantity\").show(10)\n",
    "ventas.orderBy(desc(\"Quantity\")).show(10)"
   ]
  },
  {
   "cell_type": "markdown",
   "metadata": {},
   "source": [
    "Los datos que has proporcionado muestran claramente que los valores extremos en la columna Quantity representan tanto compras grandes como devoluciones grandes (negativos). Las entradas con cantidades muy grandes y su correspondiente devolución, como en los casos de 23843 y 23166, sugieren transacciones válidas seguidas de devoluciones completas. Esto podría ser indicativo de problemas con productos específicos, errores en el pedido, o decisiones de cambio en la gestión de inventario. Las devoluciones (cantidades negativas) y las compras grandes son parte normal de la operación comercial para muchos negocios, especialmente en el comercio al por mayor o en situaciones de pedidos en masa que son cancelados o devueltos por alguna razón.\n",
    "\n",
    "Dada la importancia de ambos tipos de transacciones (positivas y negativas), vamos a Separar Compras y Devoluciones\n",
    "Considere separar las transacciones en compras y devoluciones para análisis específicos. Esto permite analizar las tendencias de compra y devolución por separado, lo cual puede ser útil para entender el comportamiento del cliente y la calidad del producto."
   ]
  },
  {
   "cell_type": "code",
   "execution_count": 17,
   "metadata": {},
   "outputs": [
    {
     "name": "stdout",
     "output_type": "stream",
     "text": [
      "Total de filas en compras: 524877\n",
      "Total de filas en devoluciones: 9251\n",
      "Suma de filas en compras y devoluciones: 534128\n"
     ]
    }
   ],
   "source": [
    "purchases = ventas.filter(col(\"Quantity\") >= 0)\n",
    "returns = ventas.filter(col(\"Quantity\") < 0)\n",
    "\n",
    "# Contar filas en los DataFrames filtrados\n",
    "total_filas_purchases = purchases.count()\n",
    "total_filas_returns = returns.count()\n",
    "\n",
    "print(f\"Total de filas en compras: {total_filas_purchases}\")\n",
    "print(f\"Total de filas en devoluciones: {total_filas_returns}\")\n",
    "print(f\"Suma de filas en compras y devoluciones: {total_filas_purchases + total_filas_returns}\")\n"
   ]
  },
  {
   "cell_type": "code",
   "execution_count": 18,
   "metadata": {},
   "outputs": [],
   "source": [
    "# Guardar los DataFrames limpios en archivos CSV con modo sobrescritura\n",
    "purchases.write.mode(\"overwrite\").csv(\"purchases_clean.csv\", header=True)\n",
    "returns.write.mode(\"overwrite\").csv(\"returns_clean.csv\", header=True)"
   ]
  },
  {
   "cell_type": "code",
   "execution_count": 19,
   "metadata": {},
   "outputs": [],
   "source": [
    "# Crear vistas temporales para realizar consultas SQL\n",
    "purchases.createOrReplaceTempView(\"purchases\")\n",
    "returns.createOrReplaceTempView(\"returns\")\n",
    "ventas.createOrReplaceTempView(\"ventas\")\n",
    "ventas.withColumn(\"Month\", date_format(col(\"InvoiceDate\"), \"yyyy-MM\")).createOrReplaceTempView(\"purchases_with_month\")"
   ]
  },
  {
   "cell_type": "markdown",
   "metadata": {},
   "source": [
    "## 6 SQL Queries\n",
    "\n",
    "### Análisis de Ventas y Clientes con sqlContext"
   ]
  },
  {
   "cell_type": "code",
   "execution_count": 21,
   "metadata": {},
   "outputs": [],
   "source": [
    "productos_mas_vendidos = sqlContext.sql(\"\"\"\n",
    "    SELECT Description, SUM(Quantity) AS TotalQuantity\n",
    "    FROM purchases\n",
    "    GROUP BY Description\n",
    "    ORDER BY TotalQuantity DESC\n",
    "    LIMIT 10\n",
    "\"\"\")\n",
    "productos_mas_vendidos.write.mode(\"overwrite\").csv(\"productos_mas_vendidos.csv\", header=True)\n"
   ]
  },
  {
   "cell_type": "code",
   "execution_count": 22,
   "metadata": {},
   "outputs": [
    {
     "name": "stdout",
     "output_type": "stream",
     "text": [
      "+--------------------+-------------+\n",
      "|         Description|TotalQuantity|\n",
      "+--------------------+-------------+\n",
      "|PAPER CRAFT , LIT...|        80995|\n",
      "|MEDIUM CERAMIC TO...|        78033|\n",
      "|WORLD WAR 2 GLIDE...|        54951|\n",
      "|JUMBO BAG RED RET...|        48371|\n",
      "|WHITE HANGING HEA...|        37872|\n",
      "|      POPCORN HOLDER|        36749|\n",
      "|PACK OF 72 RETROS...|        36396|\n",
      "|ASSORTED COLOUR B...|        36362|\n",
      "|  RABBIT NIGHT LIGHT|        30739|\n",
      "|MINI PAINT SET VI...|        26633|\n",
      "+--------------------+-------------+\n",
      "\n"
     ]
    }
   ],
   "source": [
    "productos_mas_vendidos.show()"
   ]
  },
  {
   "cell_type": "markdown",
   "metadata": {},
   "source": [
    "1. Productos con Mayor Cantidad Vendida\n",
    "PAPER CRAFT, LITHOGRAPHIC: Este producto es el más vendido con 80,995 unidades, lo que indica una alta demanda o popularidad entre los clientes.\n",
    "MEDIUM CERAMIC TOADSTOOL: El segundo producto más vendido, con 78,033 unidades, sugiere que los artículos decorativos cerámicos son populares.\n",
    "WORLD WAR 2 GLIDER PLANES: Con 54,951 unidades vendidas, este juguete parece ser muy popular.\n",
    "JUMBO BAG RED RETROSPOT: 48,371 unidades vendidas sugieren una alta demanda para este tipo de bolsas grandes.\n",
    "WHITE HANGING HEART: Un artículo decorativo, con 37,872 unidades vendidas.\n",
    "2. Variedad de Productos\n",
    "La lista incluye una variedad de productos, desde artículos decorativos (como cerámica y artículos colgantes) hasta juguetes (como los aviones planeadores de la Segunda Guerra Mundial) y productos funcionales (como las bolsas Jumbo y los soportes para palomitas de maíz).\n",
    "\n",
    "3. Análisis de Demanda\n",
    "La alta cantidad vendida de estos productos puede ser indicativa de tendencias de consumo y preferencias de los clientes. Los artículos decorativos y los juguetes parecen ser especialmente populares.\n",
    "\n",
    "4. Implicaciones para el Inventario\n",
    "Los productos en esta lista deberían ser considerados para reabastecimiento frecuente para evitar agotamiento de existencias. La tienda puede beneficiarse de mantener un stock adecuado de estos artículos populares.\n",
    "\n",
    "5. Estrategias de Marketing\n",
    "Los resultados sugieren que estos productos podrían ser destacados en campañas de marketing y promociones para aumentar aún más las ventas. Además, se pueden ofrecer descuentos o paquetes promocionales con estos artículos para atraer más clientes."
   ]
  },
  {
   "cell_type": "code",
   "execution_count": 24,
   "metadata": {},
   "outputs": [],
   "source": [
    "# Productos más devueltos\n",
    "productos_mas_devueltos = sqlContext.sql(\"\"\"\n",
    "    SELECT Description, SUM(Quantity) AS TotalQuantity\n",
    "    FROM returns\n",
    "    GROUP BY Description\n",
    "    ORDER BY TotalQuantity ASC\n",
    "    LIMIT 10\n",
    "\"\"\")\n",
    "productos_mas_devueltos.write.mode(\"overwrite\").csv(\"productos_mas_devueltos.csv\", header=True)"
   ]
  },
  {
   "cell_type": "code",
   "execution_count": 25,
   "metadata": {},
   "outputs": [
    {
     "name": "stdout",
     "output_type": "stream",
     "text": [
      "+--------------------+-------------+\n",
      "|         Description|TotalQuantity|\n",
      "+--------------------+-------------+\n",
      "|PAPER CRAFT , LIT...|       -80995|\n",
      "|MEDIUM CERAMIC TO...|       -74494|\n",
      "|ROTATING SILVER A...|        -9376|\n",
      "|              Manual|        -4066|\n",
      "|FAIRY CAKE FLANNE...|        -3150|\n",
      "|WHITE HANGING HEA...|        -2578|\n",
      "|GIN + TONIC DIET ...|        -2030|\n",
      "|   HERB MARKER BASIL|        -1527|\n",
      "|FELTCRAFT DOLL MOLLY|        -1447|\n",
      "|TEA TIME PARTY BU...|        -1424|\n",
      "+--------------------+-------------+\n",
      "\n"
     ]
    }
   ],
   "source": [
    "productos_mas_devueltos.show()"
   ]
  },
  {
   "cell_type": "markdown",
   "metadata": {},
   "source": [
    "1. Productos con Mayor Cantidad Devuelta\n",
    "PAPER CRAFT, LITHOGRAPHIC: Este producto tiene la mayor cantidad de devoluciones con -80,995 unidades. Esto es significativo, ya que también es el producto más vendido, lo que puede indicar problemas con su calidad o que es un artículo con alta rotación.\n",
    "MEDIUM CERAMIC TOADSTOOL: El segundo producto más devuelto con -74,494 unidades. Similar al producto anterior, esto sugiere posibles problemas de calidad o insatisfacción del cliente.\n",
    "ROTATING SILVER ANGEL: Con -9,376 unidades devueltas, este producto también muestra una cantidad considerable de devoluciones.\n",
    "Manual: La devolución de -4,066 unidades de un manual sugiere que puede haber errores en el contenido o falta de utilidad para los clientes.\n",
    "FAIRY CAKE FLANNEL ASSORTED: Con -3,150 unidades devueltas, este artículo podría tener problemas de calidad o presentación.\n",
    "2. Comparación con Productos Más Vendidos\n",
    "Es interesante notar que PAPER CRAFT, LITHOGRAPHIC y MEDIUM CERAMIC TOADSTOOL aparecen tanto en la lista de productos más vendidos como en la de productos más devueltos. Esto sugiere que aunque son populares, pueden tener problemas de calidad o no cumplir con las expectativas de los clientes.\n",
    "\n",
    "3. Causas de las Devoluciones\n",
    "Problemas de Calidad: La alta cantidad de devoluciones podría indicar problemas de calidad con estos productos. Los artículos como PAPER CRAFT, LITHOGRAPHIC y MEDIUM CERAMIC TOADSTOOL necesitan una revisión para identificar y corregir problemas de fabricación o material.\n",
    "Expectativas del Cliente: Productos como ROTATING SILVER ANGEL y FAIRY CAKE FLANNEL ASSORTED pueden no estar cumpliendo con las expectativas de los clientes, lo que lleva a devoluciones. Es crucial revisar las descripciones de productos y la retroalimentación de los clientes para hacer los ajustes necesarios.\n",
    "4. Estrategias para Reducir Devoluciones\n",
    "Control de Calidad: Implementar controles de calidad más estrictos para los productos que tienen altas tasas de devolución.\n",
    "Mejora de Descripciones: Asegurarse de que las descripciones de los productos sean precisas y reflejen fielmente lo que el cliente recibirá.\n",
    "Encuestas de Satisfacción: Realizar encuestas de satisfacción post-compra para identificar problemas y mejorar los productos.\n",
    "5. Impacto en el Negocio\n",
    "Las devoluciones tienen un costo significativo para el negocio, tanto en términos de logística como de insatisfacción del cliente. Reducir las tasas de devolución mediante mejoras en calidad y comunicación puede resultar en ahorros significativos y en una mayor lealtad del cliente."
   ]
  },
  {
   "cell_type": "code",
   "execution_count": 26,
   "metadata": {},
   "outputs": [],
   "source": [
    "# Clientes más valiosos (compras)\n",
    "clientes_mas_valiosos = sqlContext.sql(\"\"\"\n",
    "    SELECT CustomerID, SUM(Quantity * UnitPrice) AS TotalSpent\n",
    "    FROM purchases\n",
    "    WHERE CustomerID != -1\n",
    "    GROUP BY CustomerID\n",
    "    ORDER BY TotalSpent DESC\n",
    "    LIMIT 10\n",
    "\"\"\")\n",
    "clientes_mas_valiosos.write.mode(\"overwrite\").csv(\"clientes_mas_valiosos.csv\", header=True)"
   ]
  },
  {
   "cell_type": "code",
   "execution_count": 27,
   "metadata": {},
   "outputs": [
    {
     "name": "stdout",
     "output_type": "stream",
     "text": [
      "+----------+------------------+\n",
      "|CustomerID|        TotalSpent|\n",
      "+----------+------------------+\n",
      "|     14646| 280206.0200000002|\n",
      "|     18102|259657.29999999993|\n",
      "|     17450| 194390.7900000002|\n",
      "|     16446|          168472.5|\n",
      "|     14911| 143711.1699999997|\n",
      "|     12415|124914.52999999994|\n",
      "|     14156|117210.07999999983|\n",
      "|     17511| 91062.37999999992|\n",
      "|     16029|  80850.8400000001|\n",
      "|     12346|           77183.6|\n",
      "+----------+------------------+\n",
      "\n"
     ]
    }
   ],
   "source": [
    "clientes_mas_valiosos.show()"
   ]
  },
  {
   "cell_type": "markdown",
   "metadata": {},
   "source": [
    "1. Clientes con Mayor Gasto Total\n",
    "CustomerID 14646: Este cliente es el más valioso con un gasto total de 280,206.02. Su alto nivel de gasto sugiere que es un cliente muy activo y probablemente frecuente.\n",
    "CustomerID 18102: Con un gasto total de 259,657.30, este cliente también muestra un alto nivel de compromiso con la tienda.\n",
    "CustomerID 17450: Este cliente ha gastado 194,390.79, colocándolo como el tercer cliente más valioso.\n",
    "2. Distribución del Gasto\n",
    "El análisis muestra que los clientes más valiosos han gastado cantidades significativas, con los dos principales clientes gastando más de 250,000 cada uno. Los siguientes clientes también han gastado considerablemente, pero hay una caída notable después de los primeros tres clientes.\n",
    "\n",
    "3. Estrategias de Retención y Lealtad\n",
    "Dado que estos clientes representan un alto valor para el negocio, es crucial implementar estrategias específicas para retenerlos y aumentar su lealtad:\n",
    "\n",
    "Programas de Lealtad: Ofrecer programas de recompensas para estos clientes, como descuentos exclusivos, acceso anticipado a nuevos productos, y ofertas personalizadas.\n",
    "Atención Personalizada: Proveer un nivel de atención más personalizado, como asistencia dedicada, seguimiento post-compra, y encuestas de satisfacción específicas.\n",
    "Promociones Exclusivas: Crear promociones exclusivas para estos clientes, incentivándolos a seguir comprando y aumentando el valor de sus compras.\n",
    "4. Segmentación de Clientes\n",
    "Perfil Demográfico y Comportamental: Analizar más a fondo el perfil de estos clientes para identificar patrones demográficos y comportamentales comunes que pueden ayudar a segmentar y dirigir mejor las campañas de marketing.\n",
    "Productos Preferidos: Identificar qué productos compran más estos clientes para asegurar que el inventario esté optimizado y se realicen campañas de marketing dirigidas.\n",
    "5. Impacto en el Negocio\n",
    "Mantener y aumentar el gasto de estos clientes más valiosos puede tener un impacto significativo en los ingresos del negocio. Invertir en estrategias de retención y lealtad específicas para estos clientes puede generar un retorno sustancial de la inversión."
   ]
  },
  {
   "cell_type": "code",
   "execution_count": 28,
   "metadata": {},
   "outputs": [],
   "source": [
    "# Análisis temporal de ventas (compras)\n",
    "ventas_temporales = sqlContext.sql(\"\"\"\n",
    "    SELECT Month, SUM(Quantity * UnitPrice) AS TotalSales\n",
    "    FROM purchases_with_month\n",
    "    GROUP BY Month\n",
    "    ORDER BY Month\n",
    "\"\"\")\n",
    "\n",
    "ventas_temporales.write.mode(\"overwrite\").csv(\"ventas_temporales.csv\", header=True)"
   ]
  },
  {
   "cell_type": "code",
   "execution_count": 29,
   "metadata": {},
   "outputs": [
    {
     "name": "stdout",
     "output_type": "stream",
     "text": [
      "+-------+------------------+\n",
      "|  Month|        TotalSales|\n",
      "+-------+------------------+\n",
      "|2010-12| 746723.6099999641|\n",
      "|2011-01| 558448.5600000155|\n",
      "|2011-02|497026.41000002634|\n",
      "|2011-03| 682013.9800000135|\n",
      "|2011-04|492367.84100002423|\n",
      "|2011-05| 722094.1000000141|\n",
      "|2011-06| 689977.2300000192|\n",
      "|2011-07|  680156.991000024|\n",
      "|2011-08| 703510.5800000189|\n",
      "|2011-09|1017592.7820000201|\n",
      "|2011-10| 1069368.230000005|\n",
      "|2011-11| 1456145.799999814|\n",
      "|2011-12| 432701.0600000215|\n",
      "+-------+------------------+\n",
      "\n"
     ]
    }
   ],
   "source": [
    "ventas_temporales.show()"
   ]
  },
  {
   "cell_type": "markdown",
   "metadata": {},
   "source": [
    "1. Picos de Ventas\n",
    "Noviembre 2011 (2011-11): Con un total de ventas de 1,503,866.78, noviembre es el mes con las ventas más altas del año. Esto probablemente se deba a la temporada de compras de fin de año, que incluye eventos como el Black Friday y las compras navideñas.\n",
    "Octubre 2011 (2011-10): Octubre también muestra un alto nivel de ventas con 1,151,263.73, lo que podría indicar preparativos anticipados para la temporada de fin de año.\n",
    "Septiembre 2011 (2011-09): Con ventas de 1,056,431.29, septiembre presenta un aumento significativo, posiblemente debido a las compras de regreso a clases o promociones de fin de verano.\n",
    "2. Temporada Baja\n",
    "Febrero 2011 (2011-02): Con 522,545.56, febrero es el mes con las ventas más bajas. Esto es común después del periodo de fiestas, ya que los consumidores tienden a reducir sus gastos.\n",
    "Abril 2011 (2011-04): Otro mes con ventas relativamente bajas es abril, con un total de 536,968.49. Este patrón puede ser típico después del gasto adicional en marzo (posiblemente por las vacaciones de primavera).\n",
    "3. Tendencias Generales\n",
    "Incremento Estacional: Las ventas muestran un incremento significativo hacia el final del año, especialmente en los últimos tres meses (septiembre, octubre y noviembre).\n",
    "Estabilidad Relativa: Los meses de verano (junio, julio, agosto) presentan ventas relativamente estables, con ligeras variaciones, pero manteniendo un nivel alto.\n",
    "\n",
    "Implicaciones para el Negocio\n",
    "Optimización del Inventario:\n",
    "\n",
    "Mayor Stock en Temporada Alta: Dado el aumento en las ventas en los últimos meses del año, es crucial preparar el inventario con suficiente antelación para satisfacer la demanda durante estos meses.\n",
    "Control de Stock en Temporada Baja: Reducir los niveles de inventario en meses de ventas bajas como febrero y abril puede ayudar a reducir costos de almacenamiento.\n",
    "Estrategias de Marketing:\n",
    "\n",
    "Promociones de Fin de Año: Implementar campañas de marketing agresivas durante los meses de septiembre a noviembre para maximizar las ventas en la temporada alta.\n",
    "Promociones en Temporada Baja: Considerar promociones especiales o descuentos en meses de ventas bajas para estimular la demanda.\n",
    "Planificación Financiera:\n",
    "\n",
    "Preparación para Fluctuaciones: Las empresas deben planificar financieramente para los picos y valles en las ventas, asegurando liquidez suficiente durante los meses de menor venta y maximización de beneficios durante los meses de alta venta.\n",
    "Análisis Continuo:\n",
    "\n",
    "Monitoreo de Tendencias: Continuar monitoreando las tendencias de ventas mensuales para ajustar estrategias en tiempo real y mejorar la previsión de demanda."
   ]
  }
 ],
 "metadata": {
  "kernelspec": {
   "display_name": "Python 3 (ipykernel)",
   "language": "python",
   "name": "python3"
  },
  "language_info": {
   "codemirror_mode": {
    "name": "ipython",
    "version": 3
   },
   "file_extension": ".py",
   "mimetype": "text/x-python",
   "name": "python",
   "nbconvert_exporter": "python",
   "pygments_lexer": "ipython3",
   "version": "3.11.6"
  }
 },
 "nbformat": 4,
 "nbformat_minor": 2
}
